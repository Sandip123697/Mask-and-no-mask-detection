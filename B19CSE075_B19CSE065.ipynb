{
  "nbformat": 4,
  "nbformat_minor": 0,
  "metadata": {
    "colab": {
      "name": "B19CSE075_B19CSE065.ipynb",
      "provenance": [],
      "collapsed_sections": []
    },
    "kernelspec": {
      "name": "python3",
      "display_name": "Python 3"
    },
    "language_info": {
      "name": "python"
    }
  },
  "cells": [
    {
      "cell_type": "code",
      "metadata": {
        "id": "hH4zTQenPsG6"
      },
      "source": [
        "import numpy as np\n",
        "import PIL\n",
        "from PIL import Image\n",
        "import cv2\n",
        "from google.colab.patches import cv2_imshow\n",
        "import matplotlib.pyplot as plt\n",
        "from sklearn.model_selection import train_test_split as tts"
      ],
      "execution_count": null,
      "outputs": []
    },
    {
      "cell_type": "code",
      "metadata": {
        "id": "-vYsIPrY5RMw"
      },
      "source": [
        "from sklearn.metrics import accuracy_score\n",
        "from sklearn.metrics import f1_score\n",
        "from sklearn.metrics import log_loss\n",
        "from sklearn.model_selection import cross_val_score"
      ],
      "execution_count": null,
      "outputs": []
    },
    {
      "cell_type": "code",
      "metadata": {
        "id": "oupNuJVJiT-S"
      },
      "source": [
        "import warnings\n",
        "warnings.filterwarnings(\"ignore\")"
      ],
      "execution_count": null,
      "outputs": []
    },
    {
      "cell_type": "code",
      "metadata": {
        "id": "Qi-8OVASRdhr"
      },
      "source": [
        "w_Mask = []\n",
        "wo_Mask = []"
      ],
      "execution_count": null,
      "outputs": []
    },
    {
      "cell_type": "code",
      "metadata": {
        "colab": {
          "base_uri": "https://localhost:8080/"
        },
        "id": "2MCo5b1WSZaK",
        "outputId": "61d2ced1-6620-4fea-aa13-e8b2036cd6b1"
      },
      "source": [
        "from google.colab import drive\n",
        "drive.mount('/content/drive')\n"
      ],
      "execution_count": null,
      "outputs": [
        {
          "output_type": "stream",
          "text": [
            "Drive already mounted at /content/drive; to attempt to forcibly remount, call drive.mount(\"/content/drive\", force_remount=True).\n"
          ],
          "name": "stdout"
        }
      ]
    },
    {
      "cell_type": "code",
      "metadata": {
        "id": "HkGMvMcJinhb"
      },
      "source": [
        "import glob\n",
        "import shutil\n",
        "w_Mask = []\n",
        "dest_path = \"/content/With_mask/\"\n",
        "ptrn = \"/content/drive/MyDrive/AFDB_masked_face_dataset/*/*\"  \n",
        "for img in glob.glob(ptrn):\n",
        "    shutil.copy(img, dest_path)\n",
        "    w_Mask.append(str(img))"
      ],
      "execution_count": null,
      "outputs": []
    },
    {
      "cell_type": "code",
      "metadata": {
        "id": "ROq0W0vrjQLM"
      },
      "source": [
        "import glob \n",
        "import shutil\n",
        "cnt = 0\n",
        "wo_Mask = []   \n",
        "dest_path = \"/content/Without_mask/\"\n",
        "ptrn = \"/content/drive/MyDrive/AFDB_face_dataset/*/*\"  \n",
        "for img in glob.glob(ptrn):\n",
        "  if (cnt == 5000):\n",
        "      break\n",
        "  shutil.copy(img, dest_path)\n",
        "  wo_Mask.append(str(img))\n",
        "  cnt += 1"
      ],
      "execution_count": null,
      "outputs": []
    },
    {
      "cell_type": "code",
      "metadata": {
        "id": "AzQtWL7VlALf"
      },
      "source": [
        "def createdatabase(mask, no_mask):\n",
        "  dBase = []\n",
        "  label = []\n",
        "  for path in mask:\n",
        "    img = cv2.imread(path)\n",
        "    gray_img = cv2.cvtColor(img, cv2.COLOR_RGB2GRAY)\n",
        "    resized = cv2.resize(gray_img,(64, 64), interpolation=cv2.INTER_CUBIC)\n",
        "    dBase.append(resized.flatten())\n",
        "    label.append(1)\n",
        "    \n",
        "  \n",
        "  for path in no_mask:\n",
        "    img = cv2.imread(path)\n",
        "    gray_img = cv2.cvtColor(img, cv2.COLOR_RGB2GRAY)\n",
        "    resized = cv2.resize(gray_img,(64, 64), interpolation=cv2.INTER_CUBIC)\n",
        "    dBase.append(resized.flatten())\n",
        "    label.append(0)\n",
        "  \n",
        "  return dBase, label\n",
        "\n",
        "mask_data, mask_lab = createdatabase(w_Mask, wo_Mask)"
      ],
      "execution_count": null,
      "outputs": []
    },
    {
      "cell_type": "code",
      "metadata": {
        "id": "xPhg8icup96a"
      },
      "source": [
        "from sklearn.preprocessing import StandardScaler  \n",
        "scaler = StandardScaler()  \n",
        "scaler.fit(mask_data)  \n",
        "mask_dataset_Std = scaler.transform(mask_data) \n",
        "from sklearn.discriminant_analysis import LinearDiscriminantAnalysis as LDA\n",
        "lda = LDA()\n",
        "mask_dataset_lda = lda.fit_transform(mask_dataset_Std, mask_lab)\n"
      ],
      "execution_count": null,
      "outputs": []
    },
    {
      "cell_type": "code",
      "metadata": {
        "id": "2PU5L1m930k7"
      },
      "source": [
        "from sklearn.utils import shuffle\n",
        "\n",
        "def Shuffle(arr1, arr2):\n",
        "  arr1_shuffled, arr2_shuffled = shuffle(arr1, arr2)\n",
        "  return arr1_shuffled, arr2_shuffled\n",
        "mask_dataset_shuffle, y = Shuffle(mask_data, mask_lab)  \n",
        "\n",
        "x_train, x_test, y_train, y_test = tts(mask_dataset_shuffle, y, test_size=0.1, random_state=42)  "
      ],
      "execution_count": null,
      "outputs": []
    },
    {
      "cell_type": "code",
      "metadata": {
        "id": "GGyFrQuq368Y"
      },
      "source": [
        "mask_dataset_shuffle_lda, y_lda = Shuffle(mask_dataset_lda, mask_lab)  \n",
        "\n",
        "x_train_lda, x_test_lda, y_train_lda, y_test_lda = tts(mask_dataset_shuffle_lda, y_lda, test_size=0.1, random_state=42)"
      ],
      "execution_count": null,
      "outputs": []
    },
    {
      "cell_type": "code",
      "metadata": {
        "id": "Sd_QJzz4mUmT"
      },
      "source": [
        "model = [\"lr\",\"MLP\",\"GNB\"]\n",
        "model_accuracy = []\n",
        "model_accuracy_with_std_data = []\n",
        "model_f1_score = []\n",
        "model_f1_score_with_std_data = []\n",
        "model_cvs = []\n",
        "model_cvs_with_std_data = []"
      ],
      "execution_count": null,
      "outputs": []
    },
    {
      "cell_type": "markdown",
      "metadata": {
        "id": "7qbM46C36q7O"
      },
      "source": [
        "Logistic Regression on non-standrdized data"
      ]
    },
    {
      "cell_type": "code",
      "metadata": {
        "colab": {
          "base_uri": "https://localhost:8080/"
        },
        "id": "gq5L2WE65HAR",
        "outputId": "76c125dc-cfdd-42cc-8e41-55b0fcff161f"
      },
      "source": [
        "from sklearn.linear_model import LogisticRegression\n",
        "lr = LogisticRegression()\n",
        "lr.fit(x_train,y_train)\n",
        "y_pred = lr.predict(x_test)\n",
        "scores_lr = cross_val_score(lr, x_train, y_train, cv=5)\n",
        "print(\"F1 score for non-standardize data from logistic regression :\", f1_score(y_test, y_pred))\n",
        "print(\"Accuracy for non-standardize data from logistic regression model: \", lr.score(x_test,y_test))\n",
        "print(\"CVS for non-standardize data from logistic regression model: \",scores_lr.mean())\n"
      ],
      "execution_count": null,
      "outputs": [
        {
          "output_type": "stream",
          "text": [
            "F1 score for non-standardize data from logistic regression : 0.6852791878172588\n",
            "Accuracy for non-standardize data from logistic regression model:  0.8280166435506241\n",
            "CVS for non-standardize data from logistic regression model:  0.8122479939461436\n"
          ],
          "name": "stdout"
        }
      ]
    },
    {
      "cell_type": "code",
      "metadata": {
        "id": "0FaoFJVEo5UI"
      },
      "source": [
        "model_accuracy.append(lr.score(x_test,y_test))\n",
        "model_f1_score.append(f1_score(y_test, y_pred))\n",
        "model_cvs.append(scores_lr.mean())"
      ],
      "execution_count": null,
      "outputs": []
    },
    {
      "cell_type": "markdown",
      "metadata": {
        "id": "gGRTKuRC68nt"
      },
      "source": [
        "LogisticRegression on standardized data"
      ]
    },
    {
      "cell_type": "code",
      "metadata": {
        "colab": {
          "base_uri": "https://localhost:8080/"
        },
        "id": "QinSC3AI61qv",
        "outputId": "4c120537-ad3e-4671-8d5a-4af0176a8337"
      },
      "source": [
        "lr.fit(x_train_lda,y_train_lda)\n",
        "y_pred_lda = lr.predict(x_test_lda)\n",
        "scores_lr_stand = cross_val_score(lr, x_train_lda, y_train_lda, cv=5)\n",
        "print(\"F1 score for standardize data from logistic regression :\", f1_score(y_test_lda, y_pred_lda))\n",
        "print(\"Accuracy for standardize data from logistic regression model: \", lr.score(x_test_lda,y_test_lda))\n",
        "print(\"CVS for standardize data from logistic regression model: \",scores_lr_stand.mean())"
      ],
      "execution_count": null,
      "outputs": [
        {
          "output_type": "stream",
          "text": [
            "F1 score for standardize data from logistic regression : 0.9577464788732394\n",
            "Accuracy for standardize data from logistic regression model:  0.9750346740638003\n",
            "CVS for standardize data from logistic regression model:  0.9841101735248484\n"
          ],
          "name": "stdout"
        }
      ]
    },
    {
      "cell_type": "code",
      "metadata": {
        "id": "CECR2JbWpaJW"
      },
      "source": [
        "model_accuracy_with_std_data.append(lr.score(x_test_lda,y_test_lda))\n",
        "model_f1_score_with_std_data.append(f1_score(y_test_lda, y_pred_lda))\n",
        "model_cvs_with_std_data.append(scores_lr_stand.mean())"
      ],
      "execution_count": null,
      "outputs": []
    },
    {
      "cell_type": "markdown",
      "metadata": {
        "id": "EKkPVzdv7ixg"
      },
      "source": [
        "MLP classifier on non standardized data"
      ]
    },
    {
      "cell_type": "code",
      "metadata": {
        "colab": {
          "base_uri": "https://localhost:8080/"
        },
        "id": "SaJaI4hN60Uv",
        "outputId": "7e467b67-6543-4acb-da59-5e5f692f713a"
      },
      "source": [
        "from sklearn.neural_network import MLPClassifier\n",
        "clf_mlp = MLPClassifier(random_state=42, max_iter=987)\n",
        "clf_mlp.fit(x_train, y_train)\n",
        "y_pred_mlp=clf_mlp.predict(x_test)\n",
        "scores_mlp = cross_val_score(clf_mlp, x_train, y_train, cv=5)\n",
        "print(\"F1 score for non-standardize data from MLP :\", f1_score(y_test, y_pred_mlp))\n",
        "print(\"Accuracy for non-standardize data from MLP model: \", clf_mlp.score(x_test,y_test))\n",
        "print(\"CVS for non-standardize data from MLP model: \",scores_mlp.mean())"
      ],
      "execution_count": null,
      "outputs": [
        {
          "output_type": "stream",
          "text": [
            "F1 score for non-standardize data from MLP : 0.7405764966740577\n",
            "Accuracy for non-standardize data from MLP model:  0.8377253814147018\n",
            "CVS for non-standardize data from MLP model:  0.8045192133794036\n"
          ],
          "name": "stdout"
        }
      ]
    },
    {
      "cell_type": "code",
      "metadata": {
        "id": "rxHwUskzpY5h"
      },
      "source": [
        "model_accuracy.append(clf_mlp.score(x_test,y_test))\n",
        "model_f1_score.append(f1_score(y_test, y_pred_mlp))\n",
        "model_cvs.append(scores_mlp.mean())"
      ],
      "execution_count": null,
      "outputs": []
    },
    {
      "cell_type": "markdown",
      "metadata": {
        "id": "SivCidTT9ogQ"
      },
      "source": [
        "MLP classifier on standardized data"
      ]
    },
    {
      "cell_type": "code",
      "metadata": {
        "colab": {
          "base_uri": "https://localhost:8080/"
        },
        "id": "0QFpUemY6cXs",
        "outputId": "dc0b4855-0938-40f5-92cf-0acbc90896f7"
      },
      "source": [
        "clf_mlp.fit(x_train_lda, y_train_lda)\n",
        "y_pred_mlp_lda=clf_mlp.predict(x_test_lda)\n",
        "scores_mlp_stand = cross_val_score(clf_mlp, x_train_lda, y_train_lda, cv=5)\n",
        "print(\"F1 score for standardize data from MLP :\", f1_score(y_test_lda, y_pred_mlp_lda))\n",
        "print(\"Accuracy for standardize data from MLP model: \", clf_mlp.score(x_test_lda,y_test_lda))\n",
        "print(\"CVS for standardize data from MLP model: \",scores_mlp_stand.mean())"
      ],
      "execution_count": null,
      "outputs": [
        {
          "output_type": "stream",
          "text": [
            "F1 score for standardize data from MLP : 0.9627906976744186\n",
            "Accuracy for standardize data from MLP model:  0.9778085991678225\n",
            "CVS for standardize data from MLP model:  0.9841102925078766\n"
          ],
          "name": "stdout"
        }
      ]
    },
    {
      "cell_type": "code",
      "metadata": {
        "id": "yrrfmgA2rCcC"
      },
      "source": [
        "model_accuracy_with_std_data.append(clf_mlp.score(x_test_lda,y_test_lda))\n",
        "model_f1_score_with_std_data.append(f1_score(y_test_lda, y_pred_mlp_lda))\n",
        "model_cvs_with_std_data.append(scores_mlp_stand.mean())"
      ],
      "execution_count": null,
      "outputs": []
    },
    {
      "cell_type": "markdown",
      "metadata": {
        "id": "lpST9s8kS-jY"
      },
      "source": [
        "Gaussian Bayes Classifier on non standardized data"
      ]
    },
    {
      "cell_type": "code",
      "metadata": {
        "colab": {
          "base_uri": "https://localhost:8080/"
        },
        "id": "vuabG02A_L2u",
        "outputId": "20a1797c-24a9-40db-baaf-d71c708e82d8"
      },
      "source": [
        "from sklearn.naive_bayes import GaussianNB\n",
        "gnb = GaussianNB()\n",
        "gnb.fit(x_train, y_train)\n",
        "y_pred_gnb=gnb.predict(x_test)\n",
        "scores_gnb = cross_val_score(gnb, x_train, y_train, cv=5)\n",
        "print(\"F1 score for non-standardize data from GNB :\", f1_score(y_test, y_pred_gnb))\n",
        "print(\"Accuracy for non-standardize data from GNB model: \", gnb.score(x_test,y_test))\n",
        "print(\"CVS for non-standardize data from GNB model: \",scores_gnb.mean())"
      ],
      "execution_count": null,
      "outputs": [
        {
          "output_type": "stream",
          "text": [
            "F1 score for non-standardize data from GNB : 0.7456140350877193\n",
            "Accuracy for non-standardize data from GNB model:  0.8391123439667129\n",
            "CVS for non-standardize data from GNB model:  0.8252065545370609\n"
          ],
          "name": "stdout"
        }
      ]
    },
    {
      "cell_type": "code",
      "metadata": {
        "id": "GA4t4zZ5r0_p"
      },
      "source": [
        "model_accuracy.append(gnb.score(x_test,y_test))\n",
        "model_f1_score.append(f1_score(y_test, y_pred_gnb))\n",
        "model_cvs.append(scores_gnb.mean())"
      ],
      "execution_count": null,
      "outputs": []
    },
    {
      "cell_type": "markdown",
      "metadata": {
        "id": "bYTMtex3raSL"
      },
      "source": [
        "Gaussian Bayes Classifier on standardized data"
      ]
    },
    {
      "cell_type": "code",
      "metadata": {
        "colab": {
          "base_uri": "https://localhost:8080/"
        },
        "id": "Q3DF5_TYOGre",
        "outputId": "c6acdfc3-d9c2-41bc-8984-5659a5513d1e"
      },
      "source": [
        "gnb.fit(x_train_lda, y_train_lda)\n",
        "y_pred_gnb_lda=gnb.predict(x_test_lda)\n",
        "scores_gnb_stand = cross_val_score(gnb, x_train, y_train, cv=5)\n",
        "print(\"F1 score for standardize data from GNB :\", f1_score(y_test_lda, y_pred_gnb_lda))\n",
        "print(\"Accuracy for standardize data from GNB model: \", gnb.score(x_test_lda,y_test_lda))\n",
        "print(\"CVS for standardize data from MLP model: \",scores_gnb_stand.mean())"
      ],
      "execution_count": null,
      "outputs": [
        {
          "output_type": "stream",
          "text": [
            "F1 score for standardize data from GNB : 0.9622641509433962\n",
            "Accuracy for standardize data from GNB model:  0.9778085991678225\n",
            "CVS for standardize data from MLP model:  0.8252065545370609\n"
          ],
          "name": "stdout"
        }
      ]
    },
    {
      "cell_type": "code",
      "metadata": {
        "id": "IJZPI1xfrUb5"
      },
      "source": [
        "model_accuracy_with_std_data.append(gnb.score(x_test_lda,y_test_lda))\n",
        "model_f1_score_with_std_data.append(f1_score(y_test_lda, y_pred_gnb_lda))\n",
        "model_cvs_with_std_data.append(scores_gnb_stand.mean())"
      ],
      "execution_count": null,
      "outputs": []
    },
    {
      "cell_type": "markdown",
      "metadata": {
        "id": "MidZDJoL8ku_"
      },
      "source": [
        "Comparison"
      ]
    },
    {
      "cell_type": "code",
      "metadata": {
        "colab": {
          "base_uri": "https://localhost:8080/",
          "height": 295
        },
        "id": "8S1uhs--8kKd",
        "outputId": "c2c187f6-47ac-41f8-da58-e7fc1f299572"
      },
      "source": [
        "import matplotlib.pyplot as plt\n",
        "plt.plot(model,model_accuracy)\n",
        "plt.title(\"Model v/s Accuracy\")\n",
        "plt.xlabel(\"Model\")\n",
        "plt.ylabel(\"Accuracy\")\n",
        "plt.show()"
      ],
      "execution_count": null,
      "outputs": [
        {
          "output_type": "display_data",
          "data": {
            "image/png": "[encoded data removed]",
            "text/plain": [
              "<Figure size 432x288 with 1 Axes>"
            ]
          },
          "metadata": {
            "tags": [],
            "needs_background": "light"
          }
        }
      ]
    },
    {
      "cell_type": "code",
      "metadata": {
        "colab": {
          "base_uri": "https://localhost:8080/",
          "height": 295
        },
        "id": "5Fa3cnhdgwhK",
        "outputId": "97104721-26a6-4050-c4b0-9f8c3258ab25"
      },
      "source": [
        "import matplotlib.pyplot as plt\n",
        "plt.plot(model,model_accuracy_with_std_data)\n",
        "plt.title(\"Model v/s Accuracy_with_std_data\")\n",
        "plt.xlabel(\"Model\")\n",
        "plt.ylabel(\"Accuracy_with_std_data\")\n",
        "plt.show()"
      ],
      "execution_count": null,
      "outputs": [
        {
          "output_type": "display_data",
          "data": {
            "image/png": "[encoded data removed]",
            "text/plain": [
              "<Figure size 432x288 with 1 Axes>"
            ]
          },
          "metadata": {
            "tags": [],
            "needs_background": "light"
          }
        }
      ]
    },
    {
      "cell_type": "code",
      "metadata": {
        "colab": {
          "base_uri": "https://localhost:8080/",
          "height": 295
        },
        "id": "lWXSIlxTeZA6",
        "outputId": "f5d64995-9ca1-4044-ea66-6e088c638a72"
      },
      "source": [
        "import matplotlib.pyplot as plt\n",
        "plt.plot(model,model_f1_score)\n",
        "plt.title(\"Model v/s F1_score\")\n",
        "plt.xlabel(\"Model\")\n",
        "plt.ylabel(\"F1_score\")\n",
        "plt.show()"
      ],
      "execution_count": null,
      "outputs": [
        {
          "output_type": "display_data",
          "data": {
            "image/png": "[encoded data removed]",
            "text/plain": [
              "<Figure size 432x288 with 1 Axes>"
            ]
          },
          "metadata": {
            "tags": [],
            "needs_background": "light"
          }
        }
      ]
    },
    {
      "cell_type": "code",
      "metadata": {
        "colab": {
          "base_uri": "https://localhost:8080/",
          "height": 295
        },
        "id": "vh41o2yY-MaN",
        "outputId": "fdd35d42-2aa9-4b8a-8dbb-d907c5f6be9e"
      },
      "source": [
        "import matplotlib.pyplot as plt\n",
        "plt.plot(model,model_f1_score_with_std_data)\n",
        "plt.title(\"Model v/s F1_score_with_std_data\")\n",
        "plt.xlabel(\"Model\")\n",
        "plt.ylabel(\"F1_score_with_std_data\")\n",
        "plt.show()"
      ],
      "execution_count": null,
      "outputs": [
        {
          "output_type": "display_data",
          "data": {
            "image/png": "[encoded data removed]",
            "text/plain": [
              "<Figure size 432x288 with 1 Axes>"
            ]
          },
          "metadata": {
            "tags": [],
            "needs_background": "light"
          }
        }
      ]
    },
    {
      "cell_type": "code",
      "metadata": {
        "colab": {
          "base_uri": "https://localhost:8080/",
          "height": 295
        },
        "id": "hAb6gPVa-bVi",
        "outputId": "a3fc31dd-1b75-4083-e6dd-92d81c63f98a"
      },
      "source": [
        "import matplotlib.pyplot as plt\n",
        "plt.plot(model,model_cvs)\n",
        "plt.title(\"Model v/s Cross_val_score\")\n",
        "plt.xlabel(\"Model\")\n",
        "plt.ylabel(\"Cross_val_score\")\n",
        "plt.show()"
      ],
      "execution_count": null,
      "outputs": [
        {
          "output_type": "display_data",
          "data": {
            "image/png": "[encoded data removed]",
            "text/plain": [
              "<Figure size 432x288 with 1 Axes>"
            ]
          },
          "metadata": {
            "tags": [],
            "needs_background": "light"
          }
        }
      ]
    },
    {
      "cell_type": "code",
      "metadata": {
        "colab": {
          "base_uri": "https://localhost:8080/",
          "height": 295
        },
        "id": "ofgTxlhWAjh4",
        "outputId": "f78b4ec3-10a0-434b-d5d9-4179996281e4"
      },
      "source": [
        "import matplotlib.pyplot as plt\n",
        "plt.plot(model,model_cvs_with_std_data)\n",
        "plt.title(\"Model v/s Cross_val_score_with_std_data\")\n",
        "plt.xlabel(\"Model\")\n",
        "plt.ylabel(\"Cross_val_score_with_std_data\")\n",
        "plt.show()"
      ],
      "execution_count": null,
      "outputs": [
        {
          "output_type": "display_data",
          "data": {
            "image/png": "[encoded data removed]",
            "text/plain": [
              "<Figure size 432x288 with 1 Axes>"
            ]
          },
          "metadata": {
            "tags": [],
            "needs_background": "light"
          }
        }
      ]
    }
  ]
}